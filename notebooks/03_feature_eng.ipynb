{
 "cells": [
  {
   "metadata": {},
   "cell_type": "markdown",
   "source": [
    "# 3. Feature Engineering\n",
    "\n",
    "This notebook is used as a test for feature engineering. We know from the SDA in R which features we want to use for the model and that we likely want to use a Linear Regression model.\n",
    "\n",
    "Need to test accessing our features and target from the db, creating new features, scaling the data and outputting to our features and target sets."
   ],
   "id": "941a51beb0560815"
  },
  {
   "metadata": {
    "ExecuteTime": {
     "end_time": "2025-07-31T18:25:13.223179Z",
     "start_time": "2025-07-31T18:25:13.221049Z"
    }
   },
   "cell_type": "code",
   "source": [
    "from src import database as db\n",
    "import pandas as pd\n",
    "import matplotlib.pyplot as plt"
   ],
   "id": "a29d9796c9dfe698",
   "outputs": [],
   "execution_count": 21
  },
  {
   "metadata": {
    "ExecuteTime": {
     "end_time": "2025-07-31T18:25:13.234658Z",
     "start_time": "2025-07-31T18:25:13.232914Z"
    }
   },
   "cell_type": "code",
   "source": [
    "# connect to db\n",
    "db = db.DatabaseManager()"
   ],
   "id": "69cb2da8dccddad7",
   "outputs": [],
   "execution_count": 22
  },
  {
   "metadata": {
    "ExecuteTime": {
     "end_time": "2025-07-31T18:25:13.239271Z",
     "start_time": "2025-07-31T18:25:13.237708Z"
    }
   },
   "cell_type": "code",
   "source": [
    "# query to get features and target from db\n",
    "query = 'SELECT r.score, r.round_number,p.handicap, w.avg_temp, \\\n",
    "w.precipitation, w.wind_speed, w.day_of_week_int \\\n",
    "FROM rounds r \\\n",
    "LEFT JOIN players p ON r.player_id = p.player_id  \\\n",
    "LEFT JOIN weather w ON r.round_date = w.date'"
   ],
   "id": "a6f8197632bae6c9",
   "outputs": [],
   "execution_count": 23
  },
  {
   "metadata": {
    "ExecuteTime": {
     "end_time": "2025-07-31T18:25:13.277232Z",
     "start_time": "2025-07-31T18:25:13.244580Z"
    }
   },
   "cell_type": "code",
   "source": [
    "# get data\n",
    "results = db.execute_query(query)"
   ],
   "id": "7fb81f33b04dd17c",
   "outputs": [],
   "execution_count": 24
  },
  {
   "metadata": {
    "ExecuteTime": {
     "end_time": "2025-07-31T18:25:13.292401Z",
     "start_time": "2025-07-31T18:25:13.281886Z"
    }
   },
   "cell_type": "code",
   "source": [
    "# convert results to df\n",
    "df = pd.DataFrame(results)\n",
    "df.head(10)"
   ],
   "id": "1c513d12adec9026",
   "outputs": [
    {
     "data": {
      "text/plain": [
       "   score  round_number  handicap  avg_temp  precipitation  wind_speed  \\\n",
       "0     80             1      13.7      12.5            1.0        13.0   \n",
       "1     81             2      13.7      19.7            1.0        19.8   \n",
       "2     86             3      13.7      25.0            0.3        20.5   \n",
       "3     84             4      13.7       8.6            7.9        18.7   \n",
       "4     82             5      13.7      14.9            0.0        23.8   \n",
       "5     81             6      13.7      22.1            0.0        13.7   \n",
       "6     78             1      10.8       8.2            0.0        14.4   \n",
       "7     76             2      10.8      21.7            0.0        15.5   \n",
       "8     68             3      10.8      20.4            0.0         8.6   \n",
       "9     83             4      10.8      12.5            1.8        19.8   \n",
       "\n",
       "   day_of_week_int  \n",
       "0                4  \n",
       "1                5  \n",
       "2                3  \n",
       "3                2  \n",
       "4                3  \n",
       "5                7  \n",
       "6                2  \n",
       "7                2  \n",
       "8                6  \n",
       "9                2  "
      ],
      "text/html": [
       "<div>\n",
       "<style scoped>\n",
       "    .dataframe tbody tr th:only-of-type {\n",
       "        vertical-align: middle;\n",
       "    }\n",
       "\n",
       "    .dataframe tbody tr th {\n",
       "        vertical-align: top;\n",
       "    }\n",
       "\n",
       "    .dataframe thead th {\n",
       "        text-align: right;\n",
       "    }\n",
       "</style>\n",
       "<table border=\"1\" class=\"dataframe\">\n",
       "  <thead>\n",
       "    <tr style=\"text-align: right;\">\n",
       "      <th></th>\n",
       "      <th>score</th>\n",
       "      <th>round_number</th>\n",
       "      <th>handicap</th>\n",
       "      <th>avg_temp</th>\n",
       "      <th>precipitation</th>\n",
       "      <th>wind_speed</th>\n",
       "      <th>day_of_week_int</th>\n",
       "    </tr>\n",
       "  </thead>\n",
       "  <tbody>\n",
       "    <tr>\n",
       "      <th>0</th>\n",
       "      <td>80</td>\n",
       "      <td>1</td>\n",
       "      <td>13.7</td>\n",
       "      <td>12.5</td>\n",
       "      <td>1.0</td>\n",
       "      <td>13.0</td>\n",
       "      <td>4</td>\n",
       "    </tr>\n",
       "    <tr>\n",
       "      <th>1</th>\n",
       "      <td>81</td>\n",
       "      <td>2</td>\n",
       "      <td>13.7</td>\n",
       "      <td>19.7</td>\n",
       "      <td>1.0</td>\n",
       "      <td>19.8</td>\n",
       "      <td>5</td>\n",
       "    </tr>\n",
       "    <tr>\n",
       "      <th>2</th>\n",
       "      <td>86</td>\n",
       "      <td>3</td>\n",
       "      <td>13.7</td>\n",
       "      <td>25.0</td>\n",
       "      <td>0.3</td>\n",
       "      <td>20.5</td>\n",
       "      <td>3</td>\n",
       "    </tr>\n",
       "    <tr>\n",
       "      <th>3</th>\n",
       "      <td>84</td>\n",
       "      <td>4</td>\n",
       "      <td>13.7</td>\n",
       "      <td>8.6</td>\n",
       "      <td>7.9</td>\n",
       "      <td>18.7</td>\n",
       "      <td>2</td>\n",
       "    </tr>\n",
       "    <tr>\n",
       "      <th>4</th>\n",
       "      <td>82</td>\n",
       "      <td>5</td>\n",
       "      <td>13.7</td>\n",
       "      <td>14.9</td>\n",
       "      <td>0.0</td>\n",
       "      <td>23.8</td>\n",
       "      <td>3</td>\n",
       "    </tr>\n",
       "    <tr>\n",
       "      <th>5</th>\n",
       "      <td>81</td>\n",
       "      <td>6</td>\n",
       "      <td>13.7</td>\n",
       "      <td>22.1</td>\n",
       "      <td>0.0</td>\n",
       "      <td>13.7</td>\n",
       "      <td>7</td>\n",
       "    </tr>\n",
       "    <tr>\n",
       "      <th>6</th>\n",
       "      <td>78</td>\n",
       "      <td>1</td>\n",
       "      <td>10.8</td>\n",
       "      <td>8.2</td>\n",
       "      <td>0.0</td>\n",
       "      <td>14.4</td>\n",
       "      <td>2</td>\n",
       "    </tr>\n",
       "    <tr>\n",
       "      <th>7</th>\n",
       "      <td>76</td>\n",
       "      <td>2</td>\n",
       "      <td>10.8</td>\n",
       "      <td>21.7</td>\n",
       "      <td>0.0</td>\n",
       "      <td>15.5</td>\n",
       "      <td>2</td>\n",
       "    </tr>\n",
       "    <tr>\n",
       "      <th>8</th>\n",
       "      <td>68</td>\n",
       "      <td>3</td>\n",
       "      <td>10.8</td>\n",
       "      <td>20.4</td>\n",
       "      <td>0.0</td>\n",
       "      <td>8.6</td>\n",
       "      <td>6</td>\n",
       "    </tr>\n",
       "    <tr>\n",
       "      <th>9</th>\n",
       "      <td>83</td>\n",
       "      <td>4</td>\n",
       "      <td>10.8</td>\n",
       "      <td>12.5</td>\n",
       "      <td>1.8</td>\n",
       "      <td>19.8</td>\n",
       "      <td>2</td>\n",
       "    </tr>\n",
       "  </tbody>\n",
       "</table>\n",
       "</div>"
      ]
     },
     "execution_count": 25,
     "metadata": {},
     "output_type": "execute_result"
    }
   ],
   "execution_count": 25
  },
  {
   "metadata": {},
   "cell_type": "markdown",
   "source": "Based on our SDA, the features have linear relationships to the target feature, score as is, so we do not need to perform many transformations.",
   "id": "adfc46d93bfc530b"
  },
  {
   "metadata": {
    "ExecuteTime": {
     "end_time": "2025-07-31T18:25:13.344228Z",
     "start_time": "2025-07-31T18:25:13.307670Z"
    }
   },
   "cell_type": "code",
   "source": [
    "# confirming normal distribution of scores\n",
    "plt.hist(df['score'], bins=30)\n",
    "plt.title('Distribution of Scores')\n",
    "plt.show()"
   ],
   "id": "206a0cdc313054b8",
   "outputs": [
    {
     "data": {
      "text/plain": [
       "<Figure size 640x480 with 1 Axes>"
      ],
      "image/png": "[encoded data removed]"
     },
     "metadata": {},
     "output_type": "display_data"
    }
   ],
   "execution_count": 26
  },
  {
   "metadata": {
    "ExecuteTime": {
     "end_time": "2025-07-31T18:25:13.358087Z",
     "start_time": "2025-07-31T18:25:13.356379Z"
    }
   },
   "cell_type": "code",
   "source": "print(\"Score Std Dev:\", df['score'].std())",
   "id": "f2b90b311d40171c",
   "outputs": [
    {
     "name": "stdout",
     "output_type": "stream",
     "text": [
      "Score Std Dev: 4.4497501947832445\n"
     ]
    }
   ],
   "execution_count": 27
  },
  {
   "metadata": {
    "ExecuteTime": {
     "end_time": "2025-07-31T18:25:13.365278Z",
     "start_time": "2025-07-31T18:25:13.363253Z"
    }
   },
   "cell_type": "code",
   "source": [
    "from sklearn.preprocessing import StandardScaler\n",
    "\n",
    "# final feature engineering function to use for model\n",
    "def feature_engineering(df):\n",
    "    df['wind_precip'] = df['precipitation'] * df['wind_speed']\n",
    "    df['wind_cold'] = df['wind_speed'] * (df['avg_temp'] < 15).astype(int)\n",
    "    df['bad_weather_combo'] = ((df['wind_speed'] > 15) &\n",
    "                           (df['precipitation'] > 0.5) &\n",
    "                           (df['avg_temp'] < 15)).astype(int)\n",
    "    df['weekend'] = (df['day_of_week_int'] >= 5)\n",
    "    #df = pd.get_dummies(df, columns=['day_of_week_int'], prefix='day', drop_first=True)\n",
    "\n",
    "    features_to_scale = ['round_number', 'handicap', 'avg_temp',\n",
    "                   'precipitation', 'wind_speed']\n",
    "\n",
    "    scaler = StandardScaler()\n",
    "    df[features_to_scale] = scaler.fit_transform(df[features_to_scale])\n",
    "\n",
    "    X = df.drop(['score'], axis=1)\n",
    "    y = df['score']\n",
    "\n",
    "    return X, y, scaler"
   ],
   "id": "d74326e26de4dc8e",
   "outputs": [],
   "execution_count": 28
  },
  {
   "metadata": {
    "ExecuteTime": {
     "end_time": "2025-07-31T18:25:13.383996Z",
     "start_time": "2025-07-31T18:25:13.378870Z"
    }
   },
   "cell_type": "code",
   "source": [
    "# test and inspect results\n",
    "X, y, scaler = feature_engineering(df)"
   ],
   "id": "fe4e14a47423a894",
   "outputs": [],
   "execution_count": 29
  },
  {
   "metadata": {
    "ExecuteTime": {
     "end_time": "2025-07-31T18:25:40.218948Z",
     "start_time": "2025-07-31T18:25:40.212504Z"
    }
   },
   "cell_type": "code",
   "source": "X.head(5)",
   "id": "2dfc97c4d197a6fa",
   "outputs": [
    {
     "data": {
      "text/plain": [
       "   round_number  handicap  avg_temp  precipitation  wind_speed  wind_precip  \\\n",
       "0     -0.912213  1.023416 -0.873076      -0.264355   -0.717595        13.00   \n",
       "1     -0.850226  1.023416  0.277505      -0.264355    0.523461        19.80   \n",
       "2     -0.788239  1.023416  1.124460      -0.352186    0.651216         6.15   \n",
       "3     -0.726251  1.023416 -1.496307       0.601412    0.322702       147.73   \n",
       "4     -0.664264  1.023416 -0.489549      -0.389829    1.253494         0.00   \n",
       "\n",
       "   wind_cold  bad_weather_combo  weekend  day_2  day_3  day_4  day_5  day_6  \\\n",
       "0       13.0                  0    False  False  False   True  False  False   \n",
       "1        0.0                  0     True  False  False  False   True  False   \n",
       "2        0.0                  0    False  False   True  False  False  False   \n",
       "3       18.7                  1    False   True  False  False  False  False   \n",
       "4       23.8                  0    False  False   True  False  False  False   \n",
       "\n",
       "   day_7  \n",
       "0  False  \n",
       "1  False  \n",
       "2  False  \n",
       "3  False  \n",
       "4  False  "
      ],
      "text/html": [
       "<div>\n",
       "<style scoped>\n",
       "    .dataframe tbody tr th:only-of-type {\n",
       "        vertical-align: middle;\n",
       "    }\n",
       "\n",
       "    .dataframe tbody tr th {\n",
       "        vertical-align: top;\n",
       "    }\n",
       "\n",
       "    .dataframe thead th {\n",
       "        text-align: right;\n",
       "    }\n",
       "</style>\n",
       "<table border=\"1\" class=\"dataframe\">\n",
       "  <thead>\n",
       "    <tr style=\"text-align: right;\">\n",
       "      <th></th>\n",
       "      <th>round_number</th>\n",
       "      <th>handicap</th>\n",
       "      <th>avg_temp</th>\n",
       "      <th>precipitation</th>\n",
       "      <th>wind_speed</th>\n",
       "      <th>wind_precip</th>\n",
       "      <th>wind_cold</th>\n",
       "      <th>bad_weather_combo</th>\n",
       "      <th>weekend</th>\n",
       "      <th>day_2</th>\n",
       "      <th>day_3</th>\n",
       "      <th>day_4</th>\n",
       "      <th>day_5</th>\n",
       "      <th>day_6</th>\n",
       "      <th>day_7</th>\n",
       "    </tr>\n",
       "  </thead>\n",
       "  <tbody>\n",
       "    <tr>\n",
       "      <th>0</th>\n",
       "      <td>-0.912213</td>\n",
       "      <td>1.023416</td>\n",
       "      <td>-0.873076</td>\n",
       "      <td>-0.264355</td>\n",
       "      <td>-0.717595</td>\n",
       "      <td>13.00</td>\n",
       "      <td>13.0</td>\n",
       "      <td>0</td>\n",
       "      <td>False</td>\n",
       "      <td>False</td>\n",
       "      <td>False</td>\n",
       "      <td>True</td>\n",
       "      <td>False</td>\n",
       "      <td>False</td>\n",
       "      <td>False</td>\n",
       "    </tr>\n",
       "    <tr>\n",
       "      <th>1</th>\n",
       "      <td>-0.850226</td>\n",
       "      <td>1.023416</td>\n",
       "      <td>0.277505</td>\n",
       "      <td>-0.264355</td>\n",
       "      <td>0.523461</td>\n",
       "      <td>19.80</td>\n",
       "      <td>0.0</td>\n",
       "      <td>0</td>\n",
       "      <td>True</td>\n",
       "      <td>False</td>\n",
       "      <td>False</td>\n",
       "      <td>False</td>\n",
       "      <td>True</td>\n",
       "      <td>False</td>\n",
       "      <td>False</td>\n",
       "    </tr>\n",
       "    <tr>\n",
       "      <th>2</th>\n",
       "      <td>-0.788239</td>\n",
       "      <td>1.023416</td>\n",
       "      <td>1.124460</td>\n",
       "      <td>-0.352186</td>\n",
       "      <td>0.651216</td>\n",
       "      <td>6.15</td>\n",
       "      <td>0.0</td>\n",
       "      <td>0</td>\n",
       "      <td>False</td>\n",
       "      <td>False</td>\n",
       "      <td>True</td>\n",
       "      <td>False</td>\n",
       "      <td>False</td>\n",
       "      <td>False</td>\n",
       "      <td>False</td>\n",
       "    </tr>\n",
       "    <tr>\n",
       "      <th>3</th>\n",
       "      <td>-0.726251</td>\n",
       "      <td>1.023416</td>\n",
       "      <td>-1.496307</td>\n",
       "      <td>0.601412</td>\n",
       "      <td>0.322702</td>\n",
       "      <td>147.73</td>\n",
       "      <td>18.7</td>\n",
       "      <td>1</td>\n",
       "      <td>False</td>\n",
       "      <td>True</td>\n",
       "      <td>False</td>\n",
       "      <td>False</td>\n",
       "      <td>False</td>\n",
       "      <td>False</td>\n",
       "      <td>False</td>\n",
       "    </tr>\n",
       "    <tr>\n",
       "      <th>4</th>\n",
       "      <td>-0.664264</td>\n",
       "      <td>1.023416</td>\n",
       "      <td>-0.489549</td>\n",
       "      <td>-0.389829</td>\n",
       "      <td>1.253494</td>\n",
       "      <td>0.00</td>\n",
       "      <td>23.8</td>\n",
       "      <td>0</td>\n",
       "      <td>False</td>\n",
       "      <td>False</td>\n",
       "      <td>True</td>\n",
       "      <td>False</td>\n",
       "      <td>False</td>\n",
       "      <td>False</td>\n",
       "      <td>False</td>\n",
       "    </tr>\n",
       "  </tbody>\n",
       "</table>\n",
       "</div>"
      ]
     },
     "execution_count": 34,
     "metadata": {},
     "output_type": "execute_result"
    }
   ],
   "execution_count": 34
  },
  {
   "metadata": {
    "ExecuteTime": {
     "end_time": "2025-07-31T18:25:38.659450Z",
     "start_time": "2025-07-31T18:25:38.656310Z"
    }
   },
   "cell_type": "code",
   "source": "y.shape",
   "id": "f663426ed208ab3d",
   "outputs": [
    {
     "data": {
      "text/plain": [
       "(6458,)"
      ]
     },
     "execution_count": 33,
     "metadata": {},
     "output_type": "execute_result"
    }
   ],
   "execution_count": 33
  }
 ],
 "metadata": {
  "kernelspec": {
   "display_name": "Python 3",
   "language": "python",
   "name": "python3"
  },
  "language_info": {
   "codemirror_mode": {
    "name": "ipython",
    "version": 2
   },
   "file_extension": ".py",
   "mimetype": "text/x-python",
   "name": "python",
   "nbconvert_exporter": "python",
   "pygments_lexer": "ipython2",
   "version": "2.7.6"
  }
 },
 "nbformat": 4,
 "nbformat_minor": 5
}
